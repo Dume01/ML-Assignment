{
  "nbformat": 4,
  "nbformat_minor": 0,
  "metadata": {
    "colab": {
      "provenance": []
    },
    "kernelspec": {
      "name": "python3",
      "display_name": "Python 3"
    },
    "language_info": {
      "name": "python"
    }
  },
  "cells": [
    {
      "cell_type": "code",
      "execution_count": 29,
      "metadata": {
        "colab": {
          "base_uri": "https://localhost:8080/"
        },
        "id": "vSPP3aVaoxq3",
        "outputId": "cbc914ab-b3e8-4333-87ca-c1d868b31c6c"
      },
      "outputs": [
        {
          "output_type": "stream",
          "name": "stdout",
          "text": [
            "Requirement already satisfied: tf_keras in /usr/local/lib/python3.10/dist-packages (2.15.0)\n"
          ]
        }
      ],
      "source": [
        "!pip install tf_keras"
      ]
    },
    {
      "cell_type": "markdown",
      "source": [
        "**Importing Libraries**"
      ],
      "metadata": {
        "id": "RAOQZhJMwU4h"
      }
    },
    {
      "cell_type": "code",
      "source": [
        "import os\n",
        "os.environ['TF_USE_LEGACY_KERAS'] = '1'\n",
        "import io\n",
        "import numpy as np\n",
        "import pandas as pd\n",
        "import seaborn as sns\n",
        "import tensorflow as tf\n",
        "import matplotlib.pyplot as plt\n",
        "from sklearn.metrics import mean_squared_error, accuracy_score"
      ],
      "metadata": {
        "id": "QyRo9Zlfrq2V"
      },
      "execution_count": 30,
      "outputs": []
    },
    {
      "cell_type": "markdown",
      "source": [
        "**Loading the dataset**"
      ],
      "metadata": {
        "id": "Pp9DUopDwbJy"
      }
    },
    {
      "cell_type": "markdown",
      "source": [
        "**Reading the dataset into a pandas dataframe**"
      ],
      "metadata": {
        "id": "mJca6Qt0wgfn"
      }
    },
    {
      "cell_type": "code",
      "source": [
        "df = pd.read_csv('data.csv')\n",
        "print(df.columns)\n",
        "features=df.iloc[:,1:8].values\n",
        "target=df.iloc[:,-1].values"
      ],
      "metadata": {
        "id": "kMVph220sDlp",
        "colab": {
          "base_uri": "https://localhost:8080/"
        },
        "outputId": "cc766839-803f-48fc-f7fa-24321ab3915d"
      },
      "execution_count": 31,
      "outputs": [
        {
          "output_type": "stream",
          "name": "stdout",
          "text": [
            "Index(['Serial No.', 'GRE Score', 'TOEFL Score', 'University Rating', 'SOP',\n",
            "       'LOR', 'CGPA', 'Research', 'Chance of Admit'],\n",
            "      dtype='object')\n"
          ]
        }
      ]
    },
    {
      "cell_type": "markdown",
      "source": [
        "**Test Train Split**\n"
      ],
      "metadata": {
        "id": "zFmOy7nCwrWz"
      }
    },
    {
      "cell_type": "code",
      "source": [
        "from sklearn.model_selection import train_test_split\n",
        "X_train, X_test, y_train, y_test = train_test_split(features, target, test_size=0.2, random_state=42)"
      ],
      "metadata": {
        "id": "gD9KmlScs3_3"
      },
      "execution_count": 32,
      "outputs": []
    },
    {
      "cell_type": "markdown",
      "source": [
        "**Feature Scaling**"
      ],
      "metadata": {
        "id": "M-joA_gr02-M"
      }
    },
    {
      "cell_type": "code",
      "source": [
        "from sklearn.preprocessing import StandardScaler\n",
        "scaler = StandardScaler()\n",
        "X_train = scaler.fit_transform(X_train)\n",
        "X_test=scaler.transform(X_test)"
      ],
      "metadata": {
        "id": "LBsApJH505hc"
      },
      "execution_count": 33,
      "outputs": []
    },
    {
      "cell_type": "markdown",
      "source": [
        "**Converting the data into Tenserflow tensors**"
      ],
      "metadata": {
        "id": "HIviDNPE5Nka"
      }
    },
    {
      "cell_type": "code",
      "source": [
        "X_train_tf= tf.constant(X_train, dtype=tf.float32)\n",
        "X_test_tf = tf.constant(X_test, dtype=tf.float32)\n",
        "y_train_tf = tf.constant(y_train.reshape(-1,1), dtype=tf.float32)\n",
        "y_test_tf = tf.constant(y_test.reshape(-1,1), dtype=tf.float32)"
      ],
      "metadata": {
        "id": "a-EUODybwQHX"
      },
      "execution_count": 34,
      "outputs": []
    },
    {
      "cell_type": "markdown",
      "source": [
        "**Initializing Weights and Bias as TensorFlow variables and defining the linear regression model and the loss function**"
      ],
      "metadata": {
        "id": "YUTrBYWp5WIv"
      }
    },
    {
      "cell_type": "code",
      "source": [
        "num_features = X_train.shape[1]\n",
        "W = tf.Variable(tf.random.normal(shape=(num_features, 1)), name='weights')\n",
        "b = tf.Variable(tf.zeros(shape=(1)), name='bias')"
      ],
      "metadata": {
        "id": "-nvIHnU043RX"
      },
      "execution_count": 35,
      "outputs": []
    },
    {
      "cell_type": "code",
      "source": [
        "# Define linear regression model\n",
        "def linear_regression(X):\n",
        "    return tf.matmul(X, W) + b"
      ],
      "metadata": {
        "id": "Fspw1UwI1HIj"
      },
      "execution_count": 36,
      "outputs": []
    },
    {
      "cell_type": "code",
      "source": [
        "# Define the loss function\n",
        "def mean_squared_error(y_true, y_pred):\n",
        "    return tf.reduce_mean(tf.square(y_true - y_pred))"
      ],
      "metadata": {
        "id": "_ZTaki-81HcT"
      },
      "execution_count": 37,
      "outputs": []
    },
    {
      "cell_type": "code",
      "source": [
        "# SGD Optimizer\n",
        "optimizer = tf.optimizers.SGD(learning_rate=0.01)"
      ],
      "metadata": {
        "id": "ayi2kpVV1Hx3"
      },
      "execution_count": 38,
      "outputs": []
    },
    {
      "cell_type": "markdown",
      "source": [
        "**Training & Evaluating the model**"
      ],
      "metadata": {
        "id": "-_U9I4t9_gqD"
      }
    },
    {
      "cell_type": "code",
      "source": [
        "def training_func(X, y):\n",
        "    with tf.GradientTape() as tape:\n",
        "        predictions = linear_regression(X)\n",
        "        loss = mean_squared_error(y, predictions)\n",
        "    gradients = tape.gradient(loss, [W, b])\n",
        "    optimizer.apply_gradients(zip(gradients, [W, b]))\n",
        "    return loss\n",
        "\n",
        "training_loss = []\n",
        "\n",
        "for epoch in range(1, 1001):\n",
        "    loss = training_func(X_train_tf, y_train_tf)\n",
        "    training_loss.append(loss)\n",
        "    if epoch % 100 == 0:\n",
        "        print(\"Epoch {}: Loss: {:.4f}\".format(epoch, loss.numpy()))"
      ],
      "metadata": {
        "colab": {
          "base_uri": "https://localhost:8080/"
        },
        "id": "OoXXBtpA_uu4",
        "outputId": "29648a7a-1d13-40d7-9910-2fa5adfbce50"
      },
      "execution_count": 39,
      "outputs": [
        {
          "output_type": "stream",
          "name": "stdout",
          "text": [
            "Epoch 100: Loss: 0.4311\n",
            "Epoch 200: Loss: 0.1621\n",
            "Epoch 300: Loss: 0.0781\n",
            "Epoch 400: Loss: 0.0419\n",
            "Epoch 500: Loss: 0.0241\n",
            "Epoch 600: Loss: 0.0147\n",
            "Epoch 700: Loss: 0.0097\n",
            "Epoch 800: Loss: 0.0069\n",
            "Epoch 900: Loss: 0.0054\n",
            "Epoch 1000: Loss: 0.0046\n"
          ]
        }
      ]
    },
    {
      "cell_type": "markdown",
      "source": [
        "**Evaluating The Model**"
      ],
      "metadata": {
        "id": "XKwgzC-f1Rug"
      }
    },
    {
      "cell_type": "code",
      "source": [
        "predictions = linear_regression(X_test_tf)\n",
        "mse = mean_squared_error(y_test_tf, predictions)\n",
        "print(\"Mean Squared Error on Testing Data:\", mse.numpy())"
      ],
      "metadata": {
        "colab": {
          "base_uri": "https://localhost:8080/"
        },
        "id": "ghDv1p101YEE",
        "outputId": "cc400558-46ba-452e-a809-1abcbe09834a"
      },
      "execution_count": 40,
      "outputs": [
        {
          "output_type": "stream",
          "name": "stdout",
          "text": [
            "Mean Squared Error on Testing Data: 0.0058505256\n"
          ]
        }
      ]
    },
    {
      "cell_type": "markdown",
      "source": [
        "**Training Loss Vs Epochs**"
      ],
      "metadata": {
        "id": "ljFjajOY1b-B"
      }
    },
    {
      "cell_type": "code",
      "source": [
        "plt.figure(figsize=(8, 6))\n",
        "plt.plot(range(1, 1001), training_loss, marker='o', linestyle='-', lw = 2)\n",
        "plt.xlabel('Epoch')\n",
        "plt.ylabel('Training_loss')\n",
        "plt.title('Training Loss vs Epochs')\n",
        "plt.grid(True)\n",
        "plt.show()"
      ],
      "metadata": {
        "colab": {
          "base_uri": "https://localhost:8080/",
          "height": 564
        },
        "id": "4nQGbeT-1fdM",
        "outputId": "1c152b4b-3bff-4846-fd4b-7ae54e124768"
      },
      "execution_count": 41,
      "outputs": [
        {
          "output_type": "display_data",
          "data": {
            "text/plain": [
              "<Figure size 800x600 with 1 Axes>"
            ],
            "image/png": "[encoded data removed]"
          },
          "metadata": {}
        }
      ]
    },
    {
      "cell_type": "markdown",
      "source": [
        "**Plotting Actual vs Predicted Probabilities**"
      ],
      "metadata": {
        "id": "FVioxJJILwWb"
      }
    },
    {
      "cell_type": "code",
      "source": [
        "# Plot Actual vs Predicted probabilities\n",
        "plt.figure(figsize=(8, 6))\n",
        "plt.scatter(y_test_tf, predictions, color='blue', alpha=0.5)\n",
        "plt.plot(y_test_tf, y_test_tf, linestyle='--', lw=2, color='black')\n",
        "plt.xlabel('Actual Probability')\n",
        "plt.ylabel('Predicted Probability')\n",
        "plt.title('Actual vs Predicted Probabilities')\n",
        "plt.grid(True)\n",
        "plt.show()"
      ],
      "metadata": {
        "colab": {
          "base_uri": "https://localhost:8080/",
          "height": 564
        },
        "id": "Ev_uN94qxaaE",
        "outputId": "a54b6e55-1934-42ee-a643-78642749d6b7"
      },
      "execution_count": 42,
      "outputs": [
        {
          "output_type": "display_data",
          "data": {
            "text/plain": [
              "<Figure size 800x600 with 1 Axes>"
            ],
            "image/png": "[encoded data removed]"
          },
          "metadata": {}
        }
      ]
    },
    {
      "cell_type": "markdown",
      "source": [
        "**Binning Process and Logistic Regression**"
      ],
      "metadata": {
        "id": "DtF8pjA0Ft9k"
      }
    },
    {
      "cell_type": "code",
      "source": [
        "bin_edges = [0.3, 0.5, 0.7, 1.0]\n",
        "bin_labels = ['Low', 'Medium', 'High']\n",
        "\n",
        "df['Admit Category'] = pd.cut(df['Chance of Admit'], bins = bin_edges, labels = bin_labels, include_lowest = True)\n",
        "target_new = df['Admit Category'].values\n",
        "\n",
        "X_train_new, X_test_new, y_train_new, y_test_new = train_test_split(features, target_new, test_size=0.2, random_state=42)\n",
        "\n",
        "scaler_new = StandardScaler()\n",
        "X_train = scaler_new.fit_transform(X_train)\n",
        "X_test=scaler_new.transform(X_test)"
      ],
      "metadata": {
        "id": "r0mfw9tqFw1z"
      },
      "execution_count": 43,
      "outputs": []
    },
    {
      "cell_type": "markdown",
      "source": [
        "**Encoding**"
      ],
      "metadata": {
        "id": "RBbxHJJc13-h"
      }
    },
    {
      "cell_type": "code",
      "source": [
        "from sklearn.preprocessing import LabelEncoder\n",
        "label_encoder = LabelEncoder()\n",
        "\n",
        "# Fit label encoder and transform the target values\n",
        "y_train_encoded = label_encoder.fit_transform(y_train_new)\n",
        "y_test_encoded = label_encoder.transform(y_test_new)"
      ],
      "metadata": {
        "id": "qnxvHu9n187I"
      },
      "execution_count": 44,
      "outputs": []
    },
    {
      "cell_type": "markdown",
      "source": [
        "**Log-Reg Model**"
      ],
      "metadata": {
        "id": "b2ZSpJ932DMX"
      }
    },
    {
      "cell_type": "code",
      "source": [
        "def logistic_regression_model(X_train, y_train, X_test, y_test):\n",
        "    # Define model parameters\n",
        "    num_features = X_train.shape[1]\n",
        "    num_classes = len(np.unique(y_train))\n",
        "    learning_rate = 0.1\n",
        "    epochs = 1000\n",
        "    batch_size = 32\n",
        "\n",
        "\n",
        "    model = tf.keras.Sequential([\n",
        "        tf.keras.layers.Dense(num_classes, activation='softmax', input_shape=(num_features,))\n",
        "    ])\n",
        "\n",
        "    # Compile the model\n",
        "    model.compile(optimizer=tf.keras.optimizers.SGD(learning_rate),\n",
        "                  loss='sparse_categorical_crossentropy',\n",
        "                  metrics=['accuracy'])\n",
        "\n",
        "    # Train the model\n",
        "    for epoch in range(epochs):\n",
        "        # Fit the model for one epoch\n",
        "        model.fit(X_train, y_train, batch_size=batch_size, epochs=1, verbose=0)\n",
        "\n",
        "        # Print the loss after every 50 epochs\n",
        "        if (epoch + 1) % 50 == 0:\n",
        "            loss, accuracy = model.evaluate(X_train, y_train, verbose=0)\n",
        "            print(f\"Epoch {epoch+1}, Loss: {loss}, Accuracy: {accuracy}\")\n",
        "\n",
        "    # Evaluate the model\n",
        "    test_loss, test_accuracy = model.evaluate(X_test, y_test)\n",
        "    print(\"Test Accuracy:\", test_accuracy)"
      ],
      "metadata": {
        "id": "Nih1k8Xb2Gcr"
      },
      "execution_count": 45,
      "outputs": []
    },
    {
      "cell_type": "code",
      "source": [
        "logistic_regression_model(X_train_new, y_train_encoded, X_test_new, y_test_encoded)"
      ],
      "metadata": {
        "colab": {
          "base_uri": "https://localhost:8080/"
        },
        "id": "SoxFLnwW2HfZ",
        "outputId": "47a7902d-d068-444b-b04a-e285f583a9b2"
      },
      "execution_count": 46,
      "outputs": [
        {
          "output_type": "stream",
          "name": "stdout",
          "text": [
            "Epoch 50, Loss: 1984.957763671875, Accuracy: 0.5950000286102295\n",
            "Epoch 100, Loss: 2045.6640625, Accuracy: 0.07500000298023224\n",
            "Epoch 150, Loss: 1268.7386474609375, Accuracy: 0.612500011920929\n",
            "Epoch 200, Loss: 2524.853759765625, Accuracy: 0.5899999737739563\n",
            "Epoch 250, Loss: 2213.34228515625, Accuracy: 0.5899999737739563\n",
            "Epoch 300, Loss: 4057.783447265625, Accuracy: 0.33500000834465027\n",
            "Epoch 350, Loss: 394.9150390625, Accuracy: 0.6474999785423279\n",
            "Epoch 400, Loss: 4458.29931640625, Accuracy: 0.33500000834465027\n",
            "Epoch 450, Loss: 1685.4302978515625, Accuracy: 0.6050000190734863\n",
            "Epoch 500, Loss: 1784.614990234375, Accuracy: 0.5924999713897705\n",
            "Epoch 550, Loss: 3614.22216796875, Accuracy: 0.33500000834465027\n",
            "Epoch 600, Loss: 1603.3231201171875, Accuracy: 0.3474999964237213\n",
            "Epoch 650, Loss: 1482.4613037109375, Accuracy: 0.5924999713897705\n",
            "Epoch 700, Loss: 643.1043090820312, Accuracy: 0.6575000286102295\n",
            "Epoch 750, Loss: 420.2870788574219, Accuracy: 0.5950000286102295\n",
            "Epoch 800, Loss: 453.8127746582031, Accuracy: 0.6399999856948853\n",
            "Epoch 850, Loss: 691.9595947265625, Accuracy: 0.6725000143051147\n",
            "Epoch 900, Loss: 2346.224609375, Accuracy: 0.5924999713897705\n",
            "Epoch 950, Loss: 2345.314453125, Accuracy: 0.5975000262260437\n",
            "Epoch 1000, Loss: 3616.613037109375, Accuracy: 0.33500000834465027\n",
            "4/4 [==============================] - 0s 2ms/step - loss: 3136.4331 - accuracy: 0.4000\n",
            "Test Accuracy: 0.4000000059604645\n"
          ]
        }
      ]
    },
    {
      "cell_type": "markdown",
      "source": [
        "**Impact of Learning Rate on Model's Performance**"
      ],
      "metadata": {
        "id": "Pde9jEEmkPJW"
      }
    },
    {
      "cell_type": "code",
      "source": [
        "learning_rates = [0.2, 0.1, 0.01, 0.001]\n",
        "epochs = 100\n",
        "\n",
        "for lr in learning_rates:\n",
        "  optimizer = tf.optimizers.SGD(learning_rate = lr)\n",
        "  loss_for_cur_lr = 0;\n",
        "  for epoch in range(epochs):\n",
        "    loss = training_func(X_train_tf, y_train_tf)\n",
        "    if epoch == epochs-1:\n",
        "      loss_for_cur_lr = loss.numpy()\n",
        "  predictions = linear_regression(X_test_tf)\n",
        "  mse = mean_squared_error(y_test_tf, predictions)\n",
        "  print(f\"Learning rate {lr}: Loss = {loss.numpy()} Mean squared error: {mse}\")\n"
      ],
      "metadata": {
        "id": "WC-ps8j0Hj7n",
        "colab": {
          "base_uri": "https://localhost:8080/"
        },
        "outputId": "b1e24224-ce6e-46c4-b46b-5ff4ff8cf28f"
      },
      "execution_count": 47,
      "outputs": [
        {
          "output_type": "stream",
          "name": "stdout",
          "text": [
            "Learning rate 0.2: Loss = 0.0035265618935227394 Mean squared error: 0.003706695046275854\n",
            "Learning rate 0.1: Loss = 0.0035265556070953608 Mean squared error: 0.003704757895320654\n",
            "Learning rate 0.01: Loss = 0.0035265556070953608 Mean squared error: 0.0037047320511192083\n",
            "Learning rate 0.001: Loss = 0.0035265556070953608 Mean squared error: 0.003704726928845048\n"
          ]
        }
      ]
    },
    {
      "cell_type": "markdown",
      "source": [
        "**Correlation coefficients & feature selection**"
      ],
      "metadata": {
        "id": "6I_2zkdmDWEC"
      }
    },
    {
      "cell_type": "code",
      "source": [
        "correlation_matrix = df.corr()\n",
        "correlation_with_target = correlation_matrix['Chance of Admit'].drop(['Serial No.', 'Chance of Admit'])\n",
        "plt.figure(figsize=(10, 6))\n",
        "sorted_correlation_with_target = correlation_with_target.sort_values(ascending=False)\n",
        "sns.barplot(x=sorted_correlation_with_target.values, y=sorted_correlation_with_target.index)\n",
        "plt.title('Feature Contributions to Chance of Admit')\n",
        "plt.xlabel('Correlation Coefficient')\n",
        "plt.ylabel('Feature')\n",
        "plt.show()\n",
        "\n",
        "\n",
        "top_features = sorted_correlation_with_target.head(4).index.tolist()\n",
        "A = df[top_features]\n",
        "B = df['Chance of Admit']\n",
        "\n",
        "A_train, A_test, B_train, B_test = train_test_split(A, B, test_size=0.2, random_state=42)\n",
        "\n",
        "model = LinearRegression()\n",
        "model.fit(A_train, B_train)\n",
        "\n",
        "B_pred = model.predict(A_test)\n",
        "mse = mean_squared_error(B_test, B_pred)\n",
        "\n",
        "print(\"Mean Squared Error:\", mse)\n",
        "\n",
        "print(\"We can clearly see that when we train the model using the features with most contribution to target, the model is much more accurate\")"
      ],
      "metadata": {
        "colab": {
          "base_uri": "https://localhost:8080/",
          "height": 653
        },
        "id": "4DLx5Y4KIVXH",
        "outputId": "d2eab7ba-e1db-484a-e166-06aa7663916d"
      },
      "execution_count": 48,
      "outputs": [
        {
          "output_type": "stream",
          "name": "stderr",
          "text": [
            "<ipython-input-48-e93691e2810f>:1: FutureWarning: The default value of numeric_only in DataFrame.corr is deprecated. In a future version, it will default to False. Select only valid columns or specify the value of numeric_only to silence this warning.\n",
            "  correlation_matrix = df.corr()\n"
          ]
        },
        {
          "output_type": "display_data",
          "data": {
            "text/plain": [
              "<Figure size 1000x600 with 1 Axes>"
            ],
            "image/png": "[encoded data removed]"
          },
          "metadata": {}
        },
        {
          "output_type": "stream",
          "name": "stdout",
          "text": [
            "Mean Squared Error: tf.Tensor(0.003983105785984343, shape=(), dtype=float64)\n",
            "We can clearly see that when we train the model using the features with most contribution to target, the model is much more accurate\n"
          ]
        }
      ]
    },
    {
      "cell_type": "markdown",
      "source": [
        "**Comparative analysis of Linear Regression and Logistic Regression(Splitting done using k-fold cross-validation)**"
      ],
      "metadata": {
        "id": "2UjoM9hwFJZl"
      }
    },
    {
      "cell_type": "code",
      "source": [
        "from sklearn.model_selection import KFold\n",
        "from sklearn.linear_model import LinearRegression, LogisticRegression\n",
        "k = 5  # Set number of folds for k-fold cross-validation\n",
        "kf = KFold(n_splits=k, shuffle=True, random_state=42)\n",
        "\n",
        "y_train_binary = (y_train > 0.5).astype(int)\n",
        "y_test_binary = (y_test > 0.5).astype(int)\n",
        "\n",
        "target_binary = (target > 0.5).astype(int)\n",
        "\n",
        "k_folds = 5\n",
        "kf = KFold(n_splits=k_folds, shuffle=True, random_state=42)\n",
        "\n",
        "# Initialize lists to store evaluation metrics\n",
        "linear_regression_mse = []\n",
        "logistic_regression_accuracy = []\n",
        "\n",
        "# Perform K-Fold cross-validation\n",
        "for train_index, test_index in kf.split(scaled_features):\n",
        "    X_train, X_test = scaled_features[train_index], scaled_features[test_index]\n",
        "    y_train, y_test = target_binary[train_index], target_binary[test_index]\n",
        "\n",
        "    # Linear Regression\n",
        "    linear_reg = LinearRegression()\n",
        "    linear_reg.fit(X_train, y_train)\n",
        "    linear_pred = linear_reg.predict(X_test)\n",
        "    linear_regression_mse.append(mean_squared_error(y_test, linear_pred))\n",
        "\n",
        "    # Logistic Regression\n",
        "    logistic_reg = LogisticRegression()\n",
        "    logistic_reg.fit(X_train, y_train)\n",
        "    logistic_pred = logistic_reg.predict(X_test)\n",
        "    logistic_regression_accuracy.append(accuracy_score(y_test, logistic_pred))\n",
        "\n",
        "# Calculate mean performance metrics\n",
        "mean_linear_regression_mse = np.mean(linear_regression_mse)\n",
        "mean_logistic_regression_accuracy = np.mean(logistic_regression_accuracy)\n",
        "\n",
        "# Print results\n",
        "print(\"Mean Squared Error (Linear Regression):\", mean_linear_regression_mse)\n",
        "print(\"Mean Accuracy (Logistic Regression):\", mean_logistic_regression_accuracy)"
      ],
      "metadata": {
        "colab": {
          "base_uri": "https://localhost:8080/"
        },
        "id": "2QNE9MUh-iDi",
        "outputId": "c2a8c4d0-76b1-4784-ba1c-db20128764bd"
      },
      "execution_count": 49,
      "outputs": [
        {
          "output_type": "stream",
          "name": "stdout",
          "text": [
            "Mean Squared Error (Linear Regression): 0.059330884988798946\n",
            "Mean Accuracy (Logistic Regression): 0.944\n"
          ]
        }
      ]
    },
    {
      "cell_type": "markdown",
      "source": [
        "**Logistic Regression using Sigmoid as an Activation Function**"
      ],
      "metadata": {
        "id": "HljEcol13lHI"
      }
    },
    {
      "cell_type": "code",
      "source": [
        "model = tf.keras.Sequential([tf.keras.layers.Dense(1, activation='sigmoid', input_shape=(X_train.shape[1],))])\n",
        "\n",
        "model.compile(optimizer='sgd', loss='binary_crossentropy', metrics=['accuracy'])\n",
        "\n",
        "# Training loop\n",
        "epochs = 1000\n",
        "for epoch in range(epochs):\n",
        "    # Train the model for one epoch\n",
        "    model.fit(X_train, y_train_binary, epochs=1, verbose=0)\n",
        "\n",
        "# Evaluate the model on test data\n",
        "loss, accuracy = model.evaluate(X_test, y_test_binary)\n",
        "print(f\"\\nTest Loss: {loss:.4f}, Test Accuracy: {accuracy:.4f}\")"
      ],
      "metadata": {
        "colab": {
          "base_uri": "https://localhost:8080/"
        },
        "id": "lu4XoQ9QNa_k",
        "outputId": "5496e6b2-e240-4d1c-ffa9-617d3b16e224"
      },
      "execution_count": 50,
      "outputs": [
        {
          "output_type": "stream",
          "name": "stdout",
          "text": [
            "4/4 [==============================] - 0s 2ms/step - loss: 0.3149 - accuracy: 0.9100\n",
            "\n",
            "Test Loss: 0.3149, Test Accuracy: 0.9100\n"
          ]
        }
      ]
    }
  ]
}