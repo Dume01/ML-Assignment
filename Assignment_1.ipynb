{
  "nbformat": 4,
  "nbformat_minor": 0,
  "metadata": {
    "colab": {
      "provenance": []
    },
    "kernelspec": {
      "name": "python3",
      "display_name": "Python 3"
    },
    "language_info": {
      "name": "python"
    }
  },
  "cells": [
    {
      "cell_type": "markdown",
      "source": [
        "**Importing the Libraries**\n"
      ],
      "metadata": {
        "id": "H2T0bTIJAUAP"
      }
    },
    {
      "cell_type": "code",
      "source": [
        "import pandas as pd\n",
        "import numpy as np\n",
        "import matplotlib.pyplot as plt"
      ],
      "metadata": {
        "id": "cBpyc17hAZOl"
      },
      "execution_count": null,
      "outputs": []
    },
    {
      "cell_type": "markdown",
      "source": [
        "**Loading the data and removing duplicate data**"
      ],
      "metadata": {
        "id": "5V6oZs4GAhYT"
      }
    },
    {
      "cell_type": "code",
      "source": [
        "dataset_with_duplicates=pd.read_csv('data.csv')\n",
        "dataset = dataset_with_duplicates.drop_duplicates()\n",
        "X=dataset.iloc[:,:-1].values\n",
        "y=dataset.iloc[:,-1].values\n"
      ],
      "metadata": {
        "id": "aTzeEG_sAk1I"
      },
      "execution_count": null,
      "outputs": []
    },
    {
      "cell_type": "code",
      "source": [
        "print(y)"
      ],
      "metadata": {
        "id": "D0tyYr2iHtNp",
        "colab": {
          "base_uri": "https://localhost:8080/"
        },
        "outputId": "4a667b09-78f7-4508-8034-fb2506d56732"
      },
      "execution_count": null,
      "outputs": [
        {
          "output_type": "stream",
          "name": "stdout",
          "text": [
            "[ 22.7  59.9  26.2  53.4  23.1  91.8  41.4  41.1 125.  116.9  78.   31.8\n",
            " 120.2  75.3  54.5 132.3 138.   68.8  42.9  82.6  76.8  72.9  23.   19.6\n",
            " 142.5  17.7  39.   48.9  69.9  62.9  17.9  38.9 134.  101.1  30.  157.8\n",
            "  70.8 154.   83.3  66.9  78.3  65.3  48.5  62.8  61.1  92.1  37.1  42.9\n",
            "  38.8  53.5  48.8 117.   92.9  35.   76.9  82.8  57.   35.8  29.6  49.1\n",
            "  84.6  42.7  58.   52.2  22.1 112.6  58.4   nan  26.4 108.9 161.   42.9\n",
            "  78.6  71.3 106.3  76.6  88.4 120.1  52.5 115.4  77.5  55.2  67.  113.\n",
            "  50.9  78.1  56.   75.9  72.3  64.3  54.5  35.3 100.9  83.4  54.8   nan\n",
            "  87.1  75.8   nan 110.7 140.8   nan  72.   79.7  51.8  76.4  88.1 157.6\n",
            "  35.8  54.2 119.5  21.7 155.   31.3  90.6]\n"
          ]
        }
      ]
    },
    {
      "cell_type": "markdown",
      "source": [
        "**Taking Care of the Missing values**"
      ],
      "metadata": {
        "id": "gALfYEsoA5tQ"
      }
    },
    {
      "cell_type": "code",
      "source": [
        "from sklearn.impute import SimpleImputer\n",
        "\n",
        "y = y.reshape(-1, 1)\n",
        "\n",
        "imputer = SimpleImputer(missing_values=np.nan, strategy='mean')\n",
        "imputer.fit(y)\n",
        "y = imputer.transform(y)\n",
        "\n"
      ],
      "metadata": {
        "id": "fn97Dk2FBAc3"
      },
      "execution_count": null,
      "outputs": []
    },
    {
      "cell_type": "code",
      "source": [
        "print(y)"
      ],
      "metadata": {
        "id": "JnOdCD4lHDjr",
        "colab": {
          "base_uri": "https://localhost:8080/"
        },
        "outputId": "83dd688a-0e43-4cdc-cb0e-dfa2048e2ef6"
      },
      "execution_count": null,
      "outputs": [
        {
          "output_type": "stream",
          "name": "stdout",
          "text": [
            "[[ 22.7]\n",
            " [ 59.9]\n",
            " [ 26.2]\n",
            " [ 53.4]\n",
            " [ 23.1]\n",
            " [ 91.8]\n",
            " [ 41.4]\n",
            " [ 41.1]\n",
            " [125. ]\n",
            " [116.9]\n",
            " [ 78. ]\n",
            " [ 31.8]\n",
            " [120.2]\n",
            " [ 75.3]\n",
            " [ 54.5]\n",
            " [132.3]\n",
            " [138. ]\n",
            " [ 68.8]\n",
            " [ 42.9]\n",
            " [ 82.6]\n",
            " [ 76.8]\n",
            " [ 72.9]\n",
            " [ 23. ]\n",
            " [ 19.6]\n",
            " [142.5]\n",
            " [ 17.7]\n",
            " [ 39. ]\n",
            " [ 48.9]\n",
            " [ 69.9]\n",
            " [ 62.9]\n",
            " [ 17.9]\n",
            " [ 38.9]\n",
            " [134. ]\n",
            " [101.1]\n",
            " [ 30. ]\n",
            " [157.8]\n",
            " [ 70.8]\n",
            " [154. ]\n",
            " [ 83.3]\n",
            " [ 66.9]\n",
            " [ 78.3]\n",
            " [ 65.3]\n",
            " [ 48.5]\n",
            " [ 62.8]\n",
            " [ 61.1]\n",
            " [ 92.1]\n",
            " [ 37.1]\n",
            " [ 42.9]\n",
            " [ 38.8]\n",
            " [ 53.5]\n",
            " [ 48.8]\n",
            " [117. ]\n",
            " [ 92.9]\n",
            " [ 35. ]\n",
            " [ 76.9]\n",
            " [ 82.8]\n",
            " [ 57. ]\n",
            " [ 35.8]\n",
            " [ 29.6]\n",
            " [ 49.1]\n",
            " [ 84.6]\n",
            " [ 42.7]\n",
            " [ 58. ]\n",
            " [ 52.2]\n",
            " [ 22.1]\n",
            " [112.6]\n",
            " [ 58.4]\n",
            " [ 72.3]\n",
            " [ 26.4]\n",
            " [108.9]\n",
            " [161. ]\n",
            " [ 42.9]\n",
            " [ 78.6]\n",
            " [ 71.3]\n",
            " [106.3]\n",
            " [ 76.6]\n",
            " [ 88.4]\n",
            " [120.1]\n",
            " [ 52.5]\n",
            " [115.4]\n",
            " [ 77.5]\n",
            " [ 55.2]\n",
            " [ 67. ]\n",
            " [113. ]\n",
            " [ 50.9]\n",
            " [ 78.1]\n",
            " [ 56. ]\n",
            " [ 75.9]\n",
            " [ 72.3]\n",
            " [ 64.3]\n",
            " [ 54.5]\n",
            " [ 35.3]\n",
            " [100.9]\n",
            " [ 83.4]\n",
            " [ 54.8]\n",
            " [ 72.3]\n",
            " [ 87.1]\n",
            " [ 75.8]\n",
            " [ 72.3]\n",
            " [110.7]\n",
            " [140.8]\n",
            " [ 72.3]\n",
            " [ 72. ]\n",
            " [ 79.7]\n",
            " [ 51.8]\n",
            " [ 76.4]\n",
            " [ 88.1]\n",
            " [157.6]\n",
            " [ 35.8]\n",
            " [ 54.2]\n",
            " [119.5]\n",
            " [ 21.7]\n",
            " [155. ]\n",
            " [ 31.3]\n",
            " [ 90.6]]\n"
          ]
        }
      ]
    },
    {
      "cell_type": "markdown",
      "source": [
        "**Generating Descriptive Statistics**"
      ],
      "metadata": {
        "id": "h3ld0bEOJgH7"
      }
    },
    {
      "cell_type": "code",
      "source": [
        "combined_table = np.column_stack((X, y))\n",
        "\n",
        "column_names_X = list(dataset.columns[:-1])\n",
        "column_names_y = [dataset.columns[-1]]\n",
        "df = pd.DataFrame(combined_table, columns=column_names_X + column_names_y)\n",
        "\n",
        "print(df.describe())"
      ],
      "metadata": {
        "id": "t53Ve-sJJ8bS",
        "colab": {
          "base_uri": "https://localhost:8080/"
        },
        "outputId": "e5060b94-42d8-4fc7-ac5c-f79c5a79feaa"
      },
      "execution_count": null,
      "outputs": [
        {
          "output_type": "stream",
          "name": "stdout",
          "text": [
            "              YEAR  Rainfall in June\n",
            "count   115.000000        115.000000\n",
            "mean   1958.000000         72.300000\n",
            "std      33.341666         35.071981\n",
            "min    1901.000000         17.700000\n",
            "25%    1929.500000         48.650000\n",
            "50%    1958.000000         70.800000\n",
            "75%    1986.500000         88.250000\n",
            "max    2015.000000        161.000000\n"
          ]
        }
      ]
    },
    {
      "cell_type": "markdown",
      "source": [
        "**Make a Histogram**"
      ],
      "metadata": {
        "id": "cMhVuqNALe-p"
      }
    },
    {
      "cell_type": "code",
      "source": [
        "plt.hist(y, bins=30, color='blue', alpha=0.7)\n",
        "plt.axvline(np.mean(y), color='red', linestyle='dashed', linewidth=2, label='Mean')\n",
        "plt.axvline(np.median(y), color='green', linestyle='dashed', linewidth=2, label='Median')\n",
        "\n",
        "plt.title('Histogram of the Data Distribution with Mean and Median')\n",
        "plt.xlabel('Values')\n",
        "plt.ylabel('Frequency')\n",
        "plt.legend()\n",
        "plt.grid(True)\n",
        "plt.show()"
      ],
      "metadata": {
        "id": "E7QLc-HULiXu",
        "colab": {
          "base_uri": "https://localhost:8080/",
          "height": 472
        },
        "outputId": "1289ad9d-b3e4-496e-9e91-000d3639df8e"
      },
      "execution_count": null,
      "outputs": [
        {
          "output_type": "display_data",
          "data": {
            "text/plain": [
              "<Figure size 640x480 with 1 Axes>"
            ],
            "image/png": "[encoded data removed]"
          },
          "metadata": {}
        }
      ]
    },
    {
      "cell_type": "code",
      "source": [
        "mean_value = np.mean(y)\n",
        "median_value = np.median(y)"
      ],
      "metadata": {
        "id": "CscFcWuPS6Dm"
      },
      "execution_count": null,
      "outputs": []
    },
    {
      "cell_type": "code",
      "source": [
        "print(f'Mean: {mean_value}')\n",
        "print(f'Median: {median_value}')"
      ],
      "metadata": {
        "id": "2baKx-ECS9M0",
        "colab": {
          "base_uri": "https://localhost:8080/"
        },
        "outputId": "6839519b-6500-4f79-a50d-7adef7acb4e9"
      },
      "execution_count": null,
      "outputs": [
        {
          "output_type": "stream",
          "name": "stdout",
          "text": [
            "Mean: 72.3\n",
            "Median: 70.8\n"
          ]
        }
      ]
    },
    {
      "cell_type": "code",
      "source": [
        "if mean_value > median_value:\n",
        "    print('The distribution is skewed to the right.')\n",
        "elif mean_value < median_value:\n",
        "    print('The distribution is skewed to the left.')\n",
        "else:\n",
        "    print('The distribution is symmetric.')"
      ],
      "metadata": {
        "id": "P_Qjc5jPTHmi",
        "colab": {
          "base_uri": "https://localhost:8080/"
        },
        "outputId": "0554d434-3671-4f93-9720-7ff75e5aa2f5"
      },
      "execution_count": null,
      "outputs": [
        {
          "output_type": "stream",
          "name": "stdout",
          "text": [
            "The distribution is skewed to the right.\n"
          ]
        }
      ]
    },
    {
      "cell_type": "markdown",
      "source": [
        "**Dividing the Data into Test and train**"
      ],
      "metadata": {
        "id": "47xWW-d1Li51"
      }
    },
    {
      "cell_type": "code",
      "source": [
        "from sklearn.model_selection import train_test_split\n",
        "X_train, X_test, y_train, y_test = train_test_split(X, y, test_size = 0.2, random_state = 0)"
      ],
      "metadata": {
        "id": "8rM2j0BwLuoQ"
      },
      "execution_count": null,
      "outputs": []
    },
    {
      "cell_type": "markdown",
      "source": [
        "**Training the Data on Simple Linear Regression**"
      ],
      "metadata": {
        "id": "-nmVAUMYMp7e"
      }
    },
    {
      "cell_type": "code",
      "source": [
        "from sklearn.linear_model import LinearRegression\n",
        "regressor=LinearRegression()\n",
        "regressor.fit(X_train,y_train)"
      ],
      "metadata": {
        "id": "ZtjLFbnzMyXg",
        "colab": {
          "base_uri": "https://localhost:8080/",
          "height": 74
        },
        "outputId": "19b2b11c-5d8f-42a9-db0e-1510687e46c0"
      },
      "execution_count": null,
      "outputs": [
        {
          "output_type": "execute_result",
          "data": {
            "text/plain": [
              "LinearRegression()"
            ],
            "text/html": [
              "<style>#sk-container-id-3 {color: black;background-color: white;}#sk-container-id-3 pre{padding: 0;}#sk-container-id-3 div.sk-toggleable {background-color: white;}#sk-container-id-3 label.sk-toggleable__label {cursor: pointer;display: block;width: 100%;margin-bottom: 0;padding: 0.3em;box-sizing: border-box;text-align: center;}#sk-container-id-3 label.sk-toggleable__label-arrow:before {content: \"▸\";float: left;margin-right: 0.25em;color: #696969;}#sk-container-id-3 label.sk-toggleable__label-arrow:hover:before {color: black;}#sk-container-id-3 div.sk-estimator:hover label.sk-toggleable__label-arrow:before {color: black;}#sk-container-id-3 div.sk-toggleable__content {max-height: 0;max-width: 0;overflow: hidden;text-align: left;background-color: #f0f8ff;}#sk-container-id-3 div.sk-toggleable__content pre {margin: 0.2em;color: black;border-radius: 0.25em;background-color: #f0f8ff;}#sk-container-id-3 input.sk-toggleable__control:checked~div.sk-toggleable__content {max-height: 200px;max-width: 100%;overflow: auto;}#sk-container-id-3 input.sk-toggleable__control:checked~label.sk-toggleable__label-arrow:before {content: \"▾\";}#sk-container-id-3 div.sk-estimator input.sk-toggleable__control:checked~label.sk-toggleable__label {background-color: #d4ebff;}#sk-container-id-3 div.sk-label input.sk-toggleable__control:checked~label.sk-toggleable__label {background-color: #d4ebff;}#sk-container-id-3 input.sk-hidden--visually {border: 0;clip: rect(1px 1px 1px 1px);clip: rect(1px, 1px, 1px, 1px);height: 1px;margin: -1px;overflow: hidden;padding: 0;position: absolute;width: 1px;}#sk-container-id-3 div.sk-estimator {font-family: monospace;background-color: #f0f8ff;border: 1px dotted black;border-radius: 0.25em;box-sizing: border-box;margin-bottom: 0.5em;}#sk-container-id-3 div.sk-estimator:hover {background-color: #d4ebff;}#sk-container-id-3 div.sk-parallel-item::after {content: \"\";width: 100%;border-bottom: 1px solid gray;flex-grow: 1;}#sk-container-id-3 div.sk-label:hover label.sk-toggleable__label {background-color: #d4ebff;}#sk-container-id-3 div.sk-serial::before {content: \"\";position: absolute;border-left: 1px solid gray;box-sizing: border-box;top: 0;bottom: 0;left: 50%;z-index: 0;}#sk-container-id-3 div.sk-serial {display: flex;flex-direction: column;align-items: center;background-color: white;padding-right: 0.2em;padding-left: 0.2em;position: relative;}#sk-container-id-3 div.sk-item {position: relative;z-index: 1;}#sk-container-id-3 div.sk-parallel {display: flex;align-items: stretch;justify-content: center;background-color: white;position: relative;}#sk-container-id-3 div.sk-item::before, #sk-container-id-3 div.sk-parallel-item::before {content: \"\";position: absolute;border-left: 1px solid gray;box-sizing: border-box;top: 0;bottom: 0;left: 50%;z-index: -1;}#sk-container-id-3 div.sk-parallel-item {display: flex;flex-direction: column;z-index: 1;position: relative;background-color: white;}#sk-container-id-3 div.sk-parallel-item:first-child::after {align-self: flex-end;width: 50%;}#sk-container-id-3 div.sk-parallel-item:last-child::after {align-self: flex-start;width: 50%;}#sk-container-id-3 div.sk-parallel-item:only-child::after {width: 0;}#sk-container-id-3 div.sk-dashed-wrapped {border: 1px dashed gray;margin: 0 0.4em 0.5em 0.4em;box-sizing: border-box;padding-bottom: 0.4em;background-color: white;}#sk-container-id-3 div.sk-label label {font-family: monospace;font-weight: bold;display: inline-block;line-height: 1.2em;}#sk-container-id-3 div.sk-label-container {text-align: center;}#sk-container-id-3 div.sk-container {/* jupyter's `normalize.less` sets `[hidden] { display: none; }` but bootstrap.min.css set `[hidden] { display: none !important; }` so we also need the `!important` here to be able to override the default hidden behavior on the sphinx rendered scikit-learn.org. See: https://github.com/scikit-learn/scikit-learn/issues/21755 */display: inline-block !important;position: relative;}#sk-container-id-3 div.sk-text-repr-fallback {display: none;}</style><div id=\"sk-container-id-3\" class=\"sk-top-container\"><div class=\"sk-text-repr-fallback\"><pre>LinearRegression()</pre><b>In a Jupyter environment, please rerun this cell to show the HTML representation or trust the notebook. <br />On GitHub, the HTML representation is unable to render, please try loading this page with nbviewer.org.</b></div><div class=\"sk-container\" hidden><div class=\"sk-item\"><div class=\"sk-estimator sk-toggleable\"><input class=\"sk-toggleable__control sk-hidden--visually\" id=\"sk-estimator-id-3\" type=\"checkbox\" checked><label for=\"sk-estimator-id-3\" class=\"sk-toggleable__label sk-toggleable__label-arrow\">LinearRegression</label><div class=\"sk-toggleable__content\"><pre>LinearRegression()</pre></div></div></div></div></div>"
            ]
          },
          "metadata": {},
          "execution_count": 38
        }
      ]
    },
    {
      "cell_type": "markdown",
      "source": [
        "**Visualizing the Training Set**"
      ],
      "metadata": {
        "id": "GwomXVntM0mZ"
      }
    },
    {
      "cell_type": "code",
      "source": [
        "plt.scatter(X_train,y_train,color='blue')\n",
        "plt.plot(X_train,regressor.predict(X_train),color='red')\n",
        "plt.title('Year vs RainFall (Linear Regression)')\n",
        "plt.xlabel('Year')\n",
        "plt.ylabel('Rainfall')\n",
        "plt.show()"
      ],
      "metadata": {
        "id": "egkzHemnNIzI",
        "colab": {
          "base_uri": "https://localhost:8080/",
          "height": 472
        },
        "outputId": "f65c6962-f61b-4203-ba9f-54de1635c073"
      },
      "execution_count": null,
      "outputs": [
        {
          "output_type": "display_data",
          "data": {
            "text/plain": [
              "<Figure size 640x480 with 1 Axes>"
            ],
            "image/png": "[encoded data removed]"
          },
          "metadata": {}
        }
      ]
    },
    {
      "cell_type": "markdown",
      "source": [
        "**Reporting MAE,MSE,RMSE**"
      ],
      "metadata": {
        "id": "Vgt_lpPLOO5v"
      }
    },
    {
      "cell_type": "code",
      "source": [
        "from sklearn.metrics import mean_absolute_error, mean_squared_error\n",
        "\n",
        "# Mean Absolute Error (MAE)\n",
        "mae = mean_absolute_error(y_test, regressor.predict(X_test))\n",
        "\n",
        "# Mean Squared Error (MSE)\n",
        "mse = mean_squared_error(y_test, regressor.predict(X_test))\n",
        "\n",
        "# Root Mean Squared Error (RMSE)\n",
        "rmse = np.sqrt(mse)\n"
      ],
      "metadata": {
        "id": "0X3oqcWSOUqC"
      },
      "execution_count": null,
      "outputs": []
    },
    {
      "cell_type": "code",
      "source": [
        "print(f'MAE: {mae}')"
      ],
      "metadata": {
        "id": "dQSIKbJnOy4W",
        "colab": {
          "base_uri": "https://localhost:8080/"
        },
        "outputId": "5c9432e3-c096-483c-e522-53ae6738c8cc"
      },
      "execution_count": null,
      "outputs": [
        {
          "output_type": "stream",
          "name": "stdout",
          "text": [
            "MAE: 29.1802802063777\n"
          ]
        }
      ]
    },
    {
      "cell_type": "code",
      "source": [
        "print(f'MSE: {mse}')"
      ],
      "metadata": {
        "id": "mMpXQJvsOy-A",
        "colab": {
          "base_uri": "https://localhost:8080/"
        },
        "outputId": "be920331-7869-4332-f054-b7590a1cf086"
      },
      "execution_count": null,
      "outputs": [
        {
          "output_type": "stream",
          "name": "stdout",
          "text": [
            "MSE: 1357.632528408134\n"
          ]
        }
      ]
    },
    {
      "cell_type": "code",
      "source": [
        "print(f'RMSE: {rmse}')"
      ],
      "metadata": {
        "id": "BGEilwWxOzGD",
        "colab": {
          "base_uri": "https://localhost:8080/"
        },
        "outputId": "40a34d8a-c2e6-497f-e319-5aada5731410"
      },
      "execution_count": null,
      "outputs": [
        {
          "output_type": "stream",
          "name": "stdout",
          "text": [
            "RMSE: 36.84606530429178\n"
          ]
        }
      ]
    },
    {
      "cell_type": "markdown",
      "source": [
        "**Training the Data again and Calculate MAE,MSE,RMSE**"
      ],
      "metadata": {
        "id": "7p_FX2UaPPcr"
      }
    },
    {
      "cell_type": "code",
      "source": [
        "X_train_new, X_test_new, y_train_new, y_test_new = train_test_split(X, y, test_size = 0.3, random_state = 0)"
      ],
      "metadata": {
        "id": "dWiQZ3q_PYmx"
      },
      "execution_count": null,
      "outputs": []
    },
    {
      "cell_type": "code",
      "source": [
        "from sklearn.linear_model import LinearRegression\n",
        "regressor_new=LinearRegression()\n",
        "regressor_new.fit(X_train_new,y_train_new)"
      ],
      "metadata": {
        "id": "LvSjI2rIPooU",
        "colab": {
          "base_uri": "https://localhost:8080/",
          "height": 74
        },
        "outputId": "9a223314-9479-4a3a-ef6f-22cac3264628"
      },
      "execution_count": null,
      "outputs": [
        {
          "output_type": "execute_result",
          "data": {
            "text/plain": [
              "LinearRegression()"
            ],
            "text/html": [
              "<style>#sk-container-id-4 {color: black;background-color: white;}#sk-container-id-4 pre{padding: 0;}#sk-container-id-4 div.sk-toggleable {background-color: white;}#sk-container-id-4 label.sk-toggleable__label {cursor: pointer;display: block;width: 100%;margin-bottom: 0;padding: 0.3em;box-sizing: border-box;text-align: center;}#sk-container-id-4 label.sk-toggleable__label-arrow:before {content: \"▸\";float: left;margin-right: 0.25em;color: #696969;}#sk-container-id-4 label.sk-toggleable__label-arrow:hover:before {color: black;}#sk-container-id-4 div.sk-estimator:hover label.sk-toggleable__label-arrow:before {color: black;}#sk-container-id-4 div.sk-toggleable__content {max-height: 0;max-width: 0;overflow: hidden;text-align: left;background-color: #f0f8ff;}#sk-container-id-4 div.sk-toggleable__content pre {margin: 0.2em;color: black;border-radius: 0.25em;background-color: #f0f8ff;}#sk-container-id-4 input.sk-toggleable__control:checked~div.sk-toggleable__content {max-height: 200px;max-width: 100%;overflow: auto;}#sk-container-id-4 input.sk-toggleable__control:checked~label.sk-toggleable__label-arrow:before {content: \"▾\";}#sk-container-id-4 div.sk-estimator input.sk-toggleable__control:checked~label.sk-toggleable__label {background-color: #d4ebff;}#sk-container-id-4 div.sk-label input.sk-toggleable__control:checked~label.sk-toggleable__label {background-color: #d4ebff;}#sk-container-id-4 input.sk-hidden--visually {border: 0;clip: rect(1px 1px 1px 1px);clip: rect(1px, 1px, 1px, 1px);height: 1px;margin: -1px;overflow: hidden;padding: 0;position: absolute;width: 1px;}#sk-container-id-4 div.sk-estimator {font-family: monospace;background-color: #f0f8ff;border: 1px dotted black;border-radius: 0.25em;box-sizing: border-box;margin-bottom: 0.5em;}#sk-container-id-4 div.sk-estimator:hover {background-color: #d4ebff;}#sk-container-id-4 div.sk-parallel-item::after {content: \"\";width: 100%;border-bottom: 1px solid gray;flex-grow: 1;}#sk-container-id-4 div.sk-label:hover label.sk-toggleable__label {background-color: #d4ebff;}#sk-container-id-4 div.sk-serial::before {content: \"\";position: absolute;border-left: 1px solid gray;box-sizing: border-box;top: 0;bottom: 0;left: 50%;z-index: 0;}#sk-container-id-4 div.sk-serial {display: flex;flex-direction: column;align-items: center;background-color: white;padding-right: 0.2em;padding-left: 0.2em;position: relative;}#sk-container-id-4 div.sk-item {position: relative;z-index: 1;}#sk-container-id-4 div.sk-parallel {display: flex;align-items: stretch;justify-content: center;background-color: white;position: relative;}#sk-container-id-4 div.sk-item::before, #sk-container-id-4 div.sk-parallel-item::before {content: \"\";position: absolute;border-left: 1px solid gray;box-sizing: border-box;top: 0;bottom: 0;left: 50%;z-index: -1;}#sk-container-id-4 div.sk-parallel-item {display: flex;flex-direction: column;z-index: 1;position: relative;background-color: white;}#sk-container-id-4 div.sk-parallel-item:first-child::after {align-self: flex-end;width: 50%;}#sk-container-id-4 div.sk-parallel-item:last-child::after {align-self: flex-start;width: 50%;}#sk-container-id-4 div.sk-parallel-item:only-child::after {width: 0;}#sk-container-id-4 div.sk-dashed-wrapped {border: 1px dashed gray;margin: 0 0.4em 0.5em 0.4em;box-sizing: border-box;padding-bottom: 0.4em;background-color: white;}#sk-container-id-4 div.sk-label label {font-family: monospace;font-weight: bold;display: inline-block;line-height: 1.2em;}#sk-container-id-4 div.sk-label-container {text-align: center;}#sk-container-id-4 div.sk-container {/* jupyter's `normalize.less` sets `[hidden] { display: none; }` but bootstrap.min.css set `[hidden] { display: none !important; }` so we also need the `!important` here to be able to override the default hidden behavior on the sphinx rendered scikit-learn.org. See: https://github.com/scikit-learn/scikit-learn/issues/21755 */display: inline-block !important;position: relative;}#sk-container-id-4 div.sk-text-repr-fallback {display: none;}</style><div id=\"sk-container-id-4\" class=\"sk-top-container\"><div class=\"sk-text-repr-fallback\"><pre>LinearRegression()</pre><b>In a Jupyter environment, please rerun this cell to show the HTML representation or trust the notebook. <br />On GitHub, the HTML representation is unable to render, please try loading this page with nbviewer.org.</b></div><div class=\"sk-container\" hidden><div class=\"sk-item\"><div class=\"sk-estimator sk-toggleable\"><input class=\"sk-toggleable__control sk-hidden--visually\" id=\"sk-estimator-id-4\" type=\"checkbox\" checked><label for=\"sk-estimator-id-4\" class=\"sk-toggleable__label sk-toggleable__label-arrow\">LinearRegression</label><div class=\"sk-toggleable__content\"><pre>LinearRegression()</pre></div></div></div></div></div>"
            ]
          },
          "metadata": {},
          "execution_count": 45
        }
      ]
    },
    {
      "cell_type": "code",
      "source": [
        "# Mean Absolute Error (MAE)\n",
        "mae_new = mean_absolute_error(y_test_new, regressor_new.predict(X_test_new))\n",
        "\n",
        "# Mean Squared Error (MSE)\n",
        "mse_new = mean_squared_error(y_test_new, regressor_new.predict(X_test_new))\n",
        "\n",
        "# Root Mean Squared Error (RMSE)\n",
        "rmse_new = np.sqrt(mse)"
      ],
      "metadata": {
        "id": "Bi6W81MTPu0f"
      },
      "execution_count": null,
      "outputs": []
    },
    {
      "cell_type": "code",
      "source": [
        "print(f'MAE: {mae_new}')"
      ],
      "metadata": {
        "id": "DbabHy_sP5Mn",
        "colab": {
          "base_uri": "https://localhost:8080/"
        },
        "outputId": "08506033-a7d2-484f-bddc-7888f98ae50f"
      },
      "execution_count": null,
      "outputs": [
        {
          "output_type": "stream",
          "name": "stdout",
          "text": [
            "MAE: 28.849711425208596\n"
          ]
        }
      ]
    },
    {
      "cell_type": "code",
      "source": [
        "print(f'MSE: {mse_new}')"
      ],
      "metadata": {
        "id": "gJ4jx4C4P5Tz",
        "colab": {
          "base_uri": "https://localhost:8080/"
        },
        "outputId": "0d3a160e-fc99-4967-9175-8063b83000e9"
      },
      "execution_count": null,
      "outputs": [
        {
          "output_type": "stream",
          "name": "stdout",
          "text": [
            "MSE: 1239.3344262563926\n"
          ]
        }
      ]
    },
    {
      "cell_type": "code",
      "source": [
        "print(f'RMSE: {rmse_new}')"
      ],
      "metadata": {
        "id": "gX-z3vrYP5ai",
        "colab": {
          "base_uri": "https://localhost:8080/"
        },
        "outputId": "6ddf2b22-2329-4536-fead-94fb1b8e611f"
      },
      "execution_count": null,
      "outputs": [
        {
          "output_type": "stream",
          "name": "stdout",
          "text": [
            "RMSE: 36.84606530429178\n"
          ]
        }
      ]
    },
    {
      "cell_type": "markdown",
      "source": [
        "**Feature Scaling**"
      ],
      "metadata": {
        "id": "s1syqbiKTjQf"
      }
    },
    {
      "cell_type": "code",
      "source": [
        "from sklearn.preprocessing import StandardScaler, MinMaxScaler\n",
        "\n",
        "# Standard Scaling\n",
        "scaler_standard = StandardScaler()\n",
        "df_standard_scaled = pd.DataFrame(scaler_standard.fit_transform(df), columns=df.columns)\n",
        "\n",
        "# Min-Max Scaling\n",
        "scaler_minmax = MinMaxScaler()\n",
        "df_minmax_scaled = pd.DataFrame(scaler_minmax.fit_transform(df), columns=df.columns)\n",
        "\n",
        "# Print the scaled DataFrames\n",
        "print(\"Original DataFrame:\")\n",
        "print(df)\n",
        "print(\"\\nDataFrame after Standard Scaling:\")\n",
        "print(df_standard_scaled)\n",
        "print(\"\\nDataFrame after Min-Max Scaling:\")\n",
        "print(df_minmax_scaled)\n",
        "\n",
        "# Report the differences in range\n",
        "range_standard_scaling = df_standard_scaled.max() - df_standard_scaled.min()\n",
        "range_minmax_scaling = df_minmax_scaled.max() - df_minmax_scaled.min()\n",
        "\n",
        "print(\"\\nDifference in range after Standard Scaling:\")\n",
        "print(range_standard_scaling)\n",
        "print(\"\\nDifference in range after Min-Max Scaling:\")\n",
        "print(range_minmax_scaling)"
      ],
      "metadata": {
        "id": "s3wB7GGYXkwi",
        "colab": {
          "base_uri": "https://localhost:8080/"
        },
        "outputId": "fe3cc35b-74e4-4324-d1e7-cc931f209ee4"
      },
      "execution_count": null,
      "outputs": [
        {
          "output_type": "stream",
          "name": "stdout",
          "text": [
            "Original DataFrame:\n",
            "       YEAR  Rainfall in June\n",
            "0    1901.0              22.7\n",
            "1    1902.0              59.9\n",
            "2    1903.0              26.2\n",
            "3    1904.0              53.4\n",
            "4    1905.0              23.1\n",
            "..      ...               ...\n",
            "110  2011.0             119.5\n",
            "111  2012.0              21.7\n",
            "112  2013.0             155.0\n",
            "113  2014.0              31.3\n",
            "114  2015.0              90.6\n",
            "\n",
            "[115 rows x 2 columns]\n",
            "\n",
            "DataFrame after Standard Scaling:\n",
            "         YEAR  Rainfall in June\n",
            "0   -1.717054         -1.420424\n",
            "1   -1.686931         -0.355106\n",
            "2   -1.656807         -1.320192\n",
            "3   -1.626683         -0.541250\n",
            "4   -1.596559         -1.408969\n",
            "..        ...               ...\n",
            "110  1.596559          1.351693\n",
            "111  1.626683         -1.449061\n",
            "112  1.656807          2.368327\n",
            "113  1.686931         -1.174140\n",
            "114  1.717054          0.524068\n",
            "\n",
            "[115 rows x 2 columns]\n",
            "\n",
            "DataFrame after Min-Max Scaling:\n",
            "         YEAR  Rainfall in June\n",
            "0    0.000000          0.034892\n",
            "1    0.008772          0.294487\n",
            "2    0.017544          0.059316\n",
            "3    0.026316          0.249128\n",
            "4    0.035088          0.037683\n",
            "..        ...               ...\n",
            "110  0.964912          0.710398\n",
            "111  0.973684          0.027913\n",
            "112  0.982456          0.958130\n",
            "113  0.991228          0.094906\n",
            "114  1.000000          0.508723\n",
            "\n",
            "[115 rows x 2 columns]\n",
            "\n",
            "Difference in range after Standard Scaling:\n",
            "YEAR                3.434109\n",
            "Rainfall in June    4.103764\n",
            "dtype: float64\n",
            "\n",
            "Difference in range after Min-Max Scaling:\n",
            "YEAR                1.0\n",
            "Rainfall in June    1.0\n",
            "dtype: float64\n"
          ]
        }
      ]
    }
  ]
}